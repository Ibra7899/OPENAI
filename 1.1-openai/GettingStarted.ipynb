{
 "cells": [
  {
   "cell_type": "markdown",
   "id": "706ecd42",
   "metadata": {},
   "source": [
    "## Getting Started With Langchain And Open AI\n",
    "\n",
    "In this quickstart we will see how to:\n",
    "* Get setup with Langchain, LangSmith, and LangServe\n",
    "* Use the most basic and common components of Langchain: Prompt templates, models, and output parsers.\n",
    "* Build a simple application with LangChain.\n",
    "* Trace your application with LangSmith.\n",
    "* Serve your application with LangServe."
   ]
  },
  {
   "cell_type": "code",
   "execution_count": 1,
   "id": "4df15207",
   "metadata": {},
   "outputs": [],
   "source": [
    "import os\n",
    "from dotenv import load_dotenv\n",
    "load_dotenv()\n",
    "\n",
    "os.environ['OPENAI_API_KEY'] = os.getenv('OPENAI_API_KEY')\n",
    "## Langsmith Tracking\n",
    "os.environ[\"LANGCHAIN_API_KEY\"] = os.getenv(\"LANGCHAIN_API_KEY\")\n",
    "## Langchain Tracing\n",
    "os.environ[\"LANGCHAIN_TRACING_V2\"] = \"true\"\n",
    "os.environ[\"LANGCHAIN_PROJECT\"] = os.getenv(\"LANGCHAIN_PROJECT\")\n"
   ]
  },
  {
   "cell_type": "code",
   "execution_count": 5,
   "id": "c76ea662",
   "metadata": {},
   "outputs": [
    {
     "name": "stdout",
     "output_type": "stream",
     "text": [
      "client=<openai.resources.chat.completions.completions.Completions object at 0x000001E19BEBBF10> async_client=<openai.resources.chat.completions.completions.AsyncCompletions object at 0x000001E19BF1E390> root_client=<openai.OpenAI object at 0x000001E19BC60650> root_async_client=<openai.AsyncOpenAI object at 0x000001E198FFE090> model_name='gpt-4o' model_kwargs={} openai_api_key=SecretStr('**********')\n"
     ]
    }
   ],
   "source": [
    "import langchain\n",
    "from langchain_openai import ChatOpenAI\n",
    "llm = ChatOpenAI(model=\"gpt-4o\")\n",
    "print(llm)"
   ]
  },
  {
   "cell_type": "code",
   "execution_count": 6,
   "id": "7c6ef152",
   "metadata": {},
   "outputs": [
    {
     "data": {
      "text/plain": [
       "langchain_openai.chat_models.base.ChatOpenAI"
      ]
     },
     "execution_count": 6,
     "metadata": {},
     "output_type": "execute_result"
    }
   ],
   "source": [
    "type(llm)"
   ]
  },
  {
   "cell_type": "code",
   "execution_count": 8,
   "id": "56a1fd14",
   "metadata": {},
   "outputs": [],
   "source": [
    "## Input and get response from LLM\n",
    "result = llm.invoke(\"What is generative AI ?\")"
   ]
  },
  {
   "cell_type": "code",
   "execution_count": null,
   "id": "1382ebb6",
   "metadata": {},
   "outputs": [],
   "source": [
    "print(result)"
   ]
  }
 ],
 "metadata": {
  "kernelspec": {
   "display_name": "KNCVU",
   "language": "python",
   "name": "python3"
  },
  "language_info": {
   "codemirror_mode": {
    "name": "ipython",
    "version": 3
   },
   "file_extension": ".py",
   "mimetype": "text/x-python",
   "name": "python",
   "nbconvert_exporter": "python",
   "pygments_lexer": "ipython3",
   "version": "3.11.11"
  }
 },
 "nbformat": 4,
 "nbformat_minor": 5
}
